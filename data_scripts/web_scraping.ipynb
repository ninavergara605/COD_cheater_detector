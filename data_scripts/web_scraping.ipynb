{
  "nbformat": 4,
  "nbformat_minor": 0,
  "metadata": {
    "colab": {
      "name": "web_scraping.ipynb",
      "provenance": [],
      "toc_visible": true,
      "authorship_tag": "ABX9TyOBgPAOu3PcE3MhwkfxuhQT"
    },
    "kernelspec": {
      "display_name": "Python 3",
      "name": "python3"
    },
    "language_info": {
      "name": "python"
    }
  },
  "cells": [
    {
      "cell_type": "code",
      "metadata": {
        "id": "KTJfMfB-YAg2",
        "colab": {
          "base_uri": "https://localhost:8080/"
        },
        "outputId": "64226089-3930-4400-d694-85efc6406869"
      },
      "source": [
        "from google.colab import drive\n",
        "drive.mount(\"/content/drive\")\n",
        "\n",
        "import re\n",
        "import pandas as pd\n",
        "from bs4 import BeautifulSoup"
      ],
      "execution_count": null,
      "outputs": [
        {
          "output_type": "stream",
          "name": "stdout",
          "text": [
            "Mounted at /content/drive\n"
          ]
        }
      ]
    },
    {
      "cell_type": "markdown",
      "metadata": {
        "id": "XqlRbYsL-BKX"
      },
      "source": [
        "## Selenium Installation and Configuration"
      ]
    },
    {
      "cell_type": "code",
      "metadata": {
        "id": "dABwcGgw79nR"
      },
      "source": [
        "# install chromium, its driver, and selenium\n",
        "!apt-get update\n",
        "!apt install chromium-chromedriver\n",
        "!cp /usr/lib/chromium-browser/chromedriver /usr/bin\n",
        "!pip install selenium\n",
        "from selenium import webdriver\n"
      ],
      "execution_count": null,
      "outputs": []
    },
    {
      "cell_type": "code",
      "metadata": {
        "id": "MnydrIei92oN"
      },
      "source": [
        "def config_wd():\n",
        "  options = webdriver.ChromeOptions()\n",
        "  options.add_argument('--headless')\n",
        "  options.add_argument('--no-sandbox')\n",
        "  options.add_argument('--disable-dev-shm-usage')\n",
        "  wd = webdriver.Chrome('chromedriver',options=options)\n",
        "  return wd\n",
        "\n",
        "wd = config_wd()\n",
        "\n"
      ],
      "execution_count": null,
      "outputs": []
    },
    {
      "cell_type": "markdown",
      "metadata": {
        "id": "yKdHijpf-l2t"
      },
      "source": [
        "## Scraping Functions"
      ]
    },
    {
      "cell_type": "markdown",
      "metadata": {
        "id": "aQ0hWUnzQQn1"
      },
      "source": [
        "### Pulling players from leaderboards"
      ]
    },
    {
      "cell_type": "code",
      "metadata": {
        "id": "oKNGcpopDu66"
      },
      "source": [
        "def get_leaderboard_info(wd, url):\n",
        "  wd.get(url)\n",
        "  level_search_pattern = re.compile(r'^/images/ranks/')\n",
        "  # open it, go to a website, and get results\n",
        "  page_data = {}\n",
        "  soup = BeautifulSoup(wd.page_source, 'html.parser')\n",
        "  for profile in soup.find_all('a', {'href': re.compile(r'^/profile/')}):\n",
        "    cod_level = profile.find_all(\"div\", attrs={'class': 'shad0'})[0].text\n",
        "    profile_href = profile['href']\n",
        "    gaming_system, handle = profile_href.split('/')[-2:]\n",
        "      \n",
        "    leaderboard_rank_attrs = {'style': 'float:left;min-width:30px;text-align:center;font-weight:bold;font-size:16px;max-width:100px;width:calc(20%);'}\n",
        "    leaderboard_rank = profile.find_all('div', attrs=leaderboard_rank_attrs)[0].text\n",
        "    \n",
        "    page_data[leaderboard_rank] = {'profile_href': profile_href\n",
        "                                  ,'gaming_system': gaming_system\n",
        "                                  ,'handle': handle\n",
        "                                  ,'cod_level': cod_level}\n",
        "  return page_data\n",
        "\n",
        "\n",
        "def parse_leaderboards(start_page, end_page, base_url):\n",
        "  wd = config_wd()\n",
        "  leaderboard_data = []\n",
        "  for i in range(start_page, end_page+1):\n",
        "    url = base_url + str(i)\n",
        "    leaderboard_data.append(get_leaderboard_info(wd, url))\n",
        "\n",
        "  return leaderboard_data"
      ],
      "execution_count": null,
      "outputs": []
    },
    {
      "cell_type": "markdown",
      "metadata": {
        "id": "69Gky7ULQaCK"
      },
      "source": [
        "### Retrieving Player Stats"
      ]
    },
    {
      "cell_type": "code",
      "metadata": {
        "id": "6ZNK8xnxmFqm"
      },
      "source": [
        "def get_match_stats(soup):\n",
        "  match_date_style = \"float:left;color:#fff;padding:5 3px;font-size:10px;line-height:14px;width:34px;text-align:center;\"\n",
        "  match_dates = [div.text for div in soup.find_all('div', attrs={'style': match_date_style})]\n",
        "  \n",
        "  match_stats_raw = [list(filter(None,re.split(r'(\\s)(\\d+)|[%]|[a-z](\\d+)', div.text))) \n",
        "                                    for div in soup.find_all('div', attrs={'class': \"match_stats_adv\"})]\n",
        "  match_stats = [(stat_arr[0], stat_arr[-1]) \n",
        "                              if stat_arr[-1] != 'm'\n",
        "                              else (stat_arr[0], stat_arr[-2]) \n",
        "                              for stat_arr in match_stats_raw]\n",
        "  match_stats_labeled = {}\n",
        "  start_idx = 0\n",
        "  for date_idx, stop_idx in enumerate(range(10, len(match_stats), 10)):\n",
        "    stats = match_stats[start_idx:stop_idx]\n",
        "    match_stats_labeled[match_dates[date_idx]] = stats\n",
        "\n",
        "    start_idx = stop_idx\n",
        "  return match_stats_labeled\n",
        "\n",
        "\n",
        "def get_general_stats(soup):\n",
        "  for div in soup.find_all('div', attrs={\"class\": \"content_block\"}):\n",
        "    names = [div.text for div in div.find_all('div', attrs={\"style\": \"color:#fff;font-size:18px;float:left;\"})]\n",
        "    stats = [div.text for div in div.find_all('div', attrs={\"style\": \"color:#52bafe;font-size:20px;float:right;font-weight:bold;\"})]\n",
        "    if names:\n",
        "      average_performance = dict(zip(names, stats))\n",
        "      return average_performance\n",
        "\n",
        "def get_player_stats(leaderboard_handles, match_stats=True):\n",
        "  \n",
        "  base_path = 'https://codstats.net'\n",
        "  \n",
        "  match_stats_all = {}\n",
        "  general_stats_all = {}\n",
        "  i = 0\n",
        "  wd = config_wd()\n",
        "  for page in leaderboard_handles:\n",
        "    for rank, player_info in page.items():\n",
        "      profile_url = base_path + player_info['profile_href']\n",
        "      try:\n",
        "        wd.get(profile_url)\n",
        "      except:\n",
        "        print('error: ', profile_url)\n",
        "        break\n",
        "      soup = BeautifulSoup(wd.page_source, 'html.parser')\n",
        "      if match_stats:\n",
        "        match_stats_all[player_info['handle']] = get_match_stats(soup)\n",
        "      general_stats_all[player_info['handle']] = get_general_stats(soup)\n",
        "    i+=1\n",
        "  return match_stats_all, general_stats_all"
      ],
      "execution_count": null,
      "outputs": []
    },
    {
      "cell_type": "markdown",
      "metadata": {
        "id": "cSnZBt9_-woU"
      },
      "source": [
        "## Reformatting Functions"
      ]
    },
    {
      "cell_type": "code",
      "metadata": {
        "id": "anU-740KJ03h"
      },
      "source": [
        "def reformat_leaderboard_dict(leaderboard_dict):\n",
        "  player_stats = []\n",
        "  cols = []\n",
        "  for page in leaderboard_dict:\n",
        "    for rank, player_info in page.items():\n",
        "      if not cols:\n",
        "        cols = player_info.keys()\n",
        "      player_stats.append([rank, *player_info.values()])\n",
        "  leaderboard_df = pd.DataFrame(player_stats, columns = ['rank',*cols])\n",
        "  return leaderboard_df"
      ],
      "execution_count": null,
      "outputs": []
    },
    {
      "cell_type": "code",
      "metadata": {
        "id": "eYnRxnj-JpuA"
      },
      "source": [
        "def reformat_matches_dict(match_dict):\n",
        "  player_stats = []\n",
        "  cols = []\n",
        "  for player, match_info in match_dict.items():\n",
        "    for date, stats_raw in match_info.items():\n",
        "      if not cols:\n",
        "        cols = [s[0] for s in stats_raw]\n",
        "      stats = [s[1] for s in stats_raw]\n",
        "      player_stats.append([player, date, *stats])\n",
        "  \n",
        "  match_df = pd.DataFrame(player_stats, columns = ['handle', 'match_date']+cols)\n",
        "  return match_df"
      ],
      "execution_count": null,
      "outputs": []
    },
    {
      "cell_type": "code",
      "metadata": {
        "id": "ipZQIo_dN6xD",
        "colab": {
          "base_uri": "https://localhost:8080/"
        },
        "outputId": "45193e0c-cc3d-47a1-a23f-d479295bb57f"
      },
      "source": [
        "def reformat_general_stats_dict(stat_dict):\n",
        "  stat_arr =[]\n",
        "  cols = []\n",
        "  for handle, stats in stat_dict.items():\n",
        "    if not cols:\n",
        "      cols= ['handle']+list(stats.keys())\n",
        "    if stats:\n",
        "      stat_arr.append([handle]+ list(stats.values()))\n",
        "    else:\n",
        "      print(f'unable to retrieve stats for {handle}')\n",
        "  \n",
        "  df = pd.DataFrame(stat_arr, columns=cols)\n",
        "  \n",
        "  return df"
      ],
      "execution_count": null,
      "outputs": [
        {
          "output_type": "stream",
          "name": "stdout",
          "text": [
            "Jandrew7\n"
          ]
        }
      ]
    },
    {
      "cell_type": "markdown",
      "metadata": {
        "id": "uR3LuCB4RKTZ"
      },
      "source": [
        "## Disptach and Export Functions"
      ]
    },
    {
      "cell_type": "code",
      "metadata": {
        "id": "7r3cWBG0z4Tb"
      },
      "source": [
        "def export(general_stats_df, match_df, leaderboard_df, first_batch):\n",
        "  stats_merged = general_stats_df.merge(match_df, how='outer', on=['handle'])\n",
        "  full_df = leaderboard_df.merge(stats_merged, how='left', on='handle')\n",
        "  \n",
        "  if first_batch:\n",
        "    to_csv_kwargs = {'mode' = 'w'\n",
        "                    , 'header' = True}\n",
        "  else:\n",
        "    to_csv_kwargs = {'mode' = 'a'\n",
        "                    ,'header' = 'False'}\n",
        "\n",
        "  general_stats_df.to_csv('/content/drive/MyDrive/capstone/data/averaged_stats.csv',**to_csv_kwargs)\n",
        "  full_df.to_csv('/content/drive/MyDrive/capstone/data/match_stats.csv', **to_csv_kwargs)\n",
        "\n",
        "def dispatch(page_start, page_stop, url, first_batch = False):\n",
        "  leader_board_dict = parse_leaderboards(page_start, page_stop, url)\n",
        "  match_stats_dict, general_stats_dict = get_player_stats(leader_board_dict)\n",
        "  \n",
        "  leaderboard_df = reformat_leaderboard(leaderboard_dict)\n",
        "  match_stats_df = reformat_matches(match_stats_dict)\n",
        "  general_stats_df = reformat_general_stats(general_stats_dict)\n",
        "  \n",
        "  export(general_stats_df, match_stats_df, leaderboard_df, first_batch)"
      ],
      "execution_count": null,
      "outputs": []
    }
  ]
}
