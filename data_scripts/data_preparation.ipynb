{
  "nbformat": 4,
  "nbformat_minor": 0,
  "metadata": {
    "colab": {
      "name": "data_preparation.ipynb",
      "provenance": [],
      "collapsed_sections": [],
      "authorship_tag": "ABX9TyOkEC+U6oawcoGVv1OTtOo3"
    },
    "kernelspec": {
      "name": "python3",
      "display_name": "Python 3"
    },
    "language_info": {
      "name": "python"
    }
  },
  "cells": [
    {
      "cell_type": "code",
      "metadata": {
        "colab": {
          "base_uri": "https://localhost:8080/"
        },
        "id": "dEFHMmlX3oHA",
        "outputId": "f22521ca-26d4-4db6-c1b8-7777cab68ebe"
      },
      "source": [
        "import re\n",
        "import math\n",
        "import pandas as pd\n",
        "import numpy as np\n",
        "from collections import defaultdict\n",
        "\n",
        "from imblearn.over_sampling import SMOTE\n",
        "from imblearn.combine import SMOTEENN\n",
        "from imblearn.under_sampling import EditedNearestNeighbours as ENN\n",
        "from imblearn.under_sampling import RepeatedEditedNearestNeighbours as RENN\n",
        "from imblearn.under_sampling import CondensedNearestNeighbour as CNN\n",
        "\n",
        "from sklearn.preprocessing import StandardScaler\n",
        "from sklearn.model_selection import train_test_split\n",
        "\n",
        "def warn(*args, **kwargs):\n",
        "    pass\n",
        "import warnings\n",
        "warnings.warn = warn\n",
        "\n",
        "\n",
        "from google.colab import drive\n",
        "drive.mount(\"/content/drive\")"
      ],
      "execution_count": 1,
      "outputs": [
        {
          "output_type": "stream",
          "name": "stderr",
          "text": [
            "/usr/local/lib/python3.7/dist-packages/sklearn/externals/six.py:31: FutureWarning: The module is deprecated in version 0.21 and will be removed in version 0.23 since we've dropped support for Python 2.7. Please rely on the official version of six (https://pypi.org/project/six/).\n",
            "  \"(https://pypi.org/project/six/).\", FutureWarning)\n",
            "/usr/local/lib/python3.7/dist-packages/sklearn/utils/deprecation.py:144: FutureWarning: The sklearn.neighbors.base module is  deprecated in version 0.22 and will be removed in version 0.24. The corresponding classes / functions should instead be imported from sklearn.neighbors. Anything that cannot be imported from sklearn.neighbors is now part of the private API.\n",
            "  warnings.warn(message, FutureWarning)\n"
          ]
        },
        {
          "output_type": "stream",
          "name": "stdout",
          "text": [
            "Mounted at /content/drive\n"
          ]
        }
      ]
    },
    {
      "cell_type": "markdown",
      "metadata": {
        "id": "Xg1-mfRK5KSk"
      },
      "source": [
        "Data was pulled from: https://codstats.net/leaderboards/\n",
        "google drive link: https://drive.google.com/file/d/1-AKWwcvuOcNxV_YkhRTxQYLMHcCNBOg-/view?usp=sharing"
      ]
    },
    {
      "cell_type": "markdown",
      "metadata": {
        "id": "VNH-lfzYo9gz"
      },
      "source": [
        "## Cleaning "
      ]
    },
    {
      "cell_type": "markdown",
      "metadata": {
        "id": "G_6PhAJBahVZ"
      },
      "source": [
        "Rename raw columns and clean out special characters"
      ]
    },
    {
      "cell_type": "code",
      "metadata": {
        "colab": {
          "base_uri": "https://localhost:8080/",
          "height": 224
        },
        "id": "dE4Y9EizQNEE",
        "outputId": "8de3c9a7-d9be-4bb0-8397-88a242cd7324"
      },
      "source": [
        "matches = pd.read_csv('/content/drive/MyDrive/capstone/data/match_stats.csv')\n",
        "percent_cols = ['Headshots %',\t'Accuracy_x',\t'Winrate']\n",
        "matches[percent_cols] = matches[percent_cols].apply(lambda x: pd.to_numeric(x.str.replace('%','')))\n",
        "df = matches.rename(columns={'Headshots %': 'player_perc_headshots'\n",
        "                  ,'Accuracy_x':'player_perc_accuracy'\n",
        "                  ,'Accuracy_y': 'match_accuracy'\n",
        "                  ,'Headshots': 'match_headshot_count'\n",
        "                  ,'Time Played': 'match_time_played'\n",
        "                  ,'Score Per Minute': 'match_score_per_minute'\n",
        "                  ,'Shot': 'match_shot_count'\n",
        "                  ,'Hit': 'match_hit_count'\n",
        "                  ,'totalXp': 'match_total_XP'\n",
        "                  ,'medal_Xp': 'match_medal_XP'\n",
        "                  ,'LongestStreak': 'match_longest_streak'\n",
        "                  ,'cod_level': 'level'\n",
        "                  ,'Winrate': 'player_perc_wins'\n",
        "                  })\n",
        "df.columns = df.columns.str.replace(' ', '_').str.lower()\n",
        "\n",
        "df['avg_lifetime'] = pd.to_numeric(df['avg_lifetime'].str.replace('sec', ''))\n",
        "df = df[(df['level'] <= 155) & (df['level'] >=15)].drop(columns='unnamed:_0')\n",
        "df.head()"
      ],
      "execution_count": 2,
      "outputs": [
        {
          "output_type": "execute_result",
          "data": {
            "text/html": [
              "<div>\n",
              "<style scoped>\n",
              "    .dataframe tbody tr th:only-of-type {\n",
              "        vertical-align: middle;\n",
              "    }\n",
              "\n",
              "    .dataframe tbody tr th {\n",
              "        vertical-align: top;\n",
              "    }\n",
              "\n",
              "    .dataframe thead th {\n",
              "        text-align: right;\n",
              "    }\n",
              "</style>\n",
              "<table border=\"1\" class=\"dataframe\">\n",
              "  <thead>\n",
              "    <tr style=\"text-align: right;\">\n",
              "      <th></th>\n",
              "      <th>rank</th>\n",
              "      <th>profile_href</th>\n",
              "      <th>gaming_system</th>\n",
              "      <th>handle</th>\n",
              "      <th>level</th>\n",
              "      <th>kda_ratio</th>\n",
              "      <th>avg_lifetime</th>\n",
              "      <th>score_per_game</th>\n",
              "      <th>player_perc_headshots</th>\n",
              "      <th>player_perc_accuracy</th>\n",
              "      <th>player_perc_wins</th>\n",
              "      <th>match_date</th>\n",
              "      <th>score</th>\n",
              "      <th>match_accuracy</th>\n",
              "      <th>match_time_played</th>\n",
              "      <th>match_headshot_count</th>\n",
              "      <th>match_score_per_minute</th>\n",
              "      <th>match_shot_count</th>\n",
              "      <th>match_hit_count</th>\n",
              "      <th>match_total_xp</th>\n",
              "      <th>medalxp</th>\n",
              "      <th>match_longest_streak</th>\n",
              "    </tr>\n",
              "  </thead>\n",
              "  <tbody>\n",
              "    <tr>\n",
              "      <th>0</th>\n",
              "      <td>1</td>\n",
              "      <td>/profile/pc/Dudebro%2311878</td>\n",
              "      <td>pc</td>\n",
              "      <td>Dudebro%2311878</td>\n",
              "      <td>55</td>\n",
              "      <td>3.82</td>\n",
              "      <td>181.0</td>\n",
              "      <td>3062.0</td>\n",
              "      <td>40.0</td>\n",
              "      <td>26.0</td>\n",
              "      <td>68.3</td>\n",
              "      <td>5 Aug15:43</td>\n",
              "      <td>1225.0</td>\n",
              "      <td>22.0</td>\n",
              "      <td>9.0</td>\n",
              "      <td>4.0</td>\n",
              "      <td>144.0</td>\n",
              "      <td>158.0</td>\n",
              "      <td>34.0</td>\n",
              "      <td>7737.0</td>\n",
              "      <td>4925.0</td>\n",
              "      <td>5.0</td>\n",
              "    </tr>\n",
              "    <tr>\n",
              "      <th>1</th>\n",
              "      <td>1</td>\n",
              "      <td>/profile/pc/Dudebro%2311878</td>\n",
              "      <td>pc</td>\n",
              "      <td>Dudebro%2311878</td>\n",
              "      <td>55</td>\n",
              "      <td>3.82</td>\n",
              "      <td>181.0</td>\n",
              "      <td>3062.0</td>\n",
              "      <td>40.0</td>\n",
              "      <td>26.0</td>\n",
              "      <td>68.3</td>\n",
              "      <td>31 Jul19:25</td>\n",
              "      <td>1350.0</td>\n",
              "      <td>45.0</td>\n",
              "      <td>8.0</td>\n",
              "      <td>4.0</td>\n",
              "      <td>176.0</td>\n",
              "      <td>29.0</td>\n",
              "      <td>13.0</td>\n",
              "      <td>16018.0</td>\n",
              "      <td>4700.0</td>\n",
              "      <td>12.0</td>\n",
              "    </tr>\n",
              "    <tr>\n",
              "      <th>2</th>\n",
              "      <td>1</td>\n",
              "      <td>/profile/pc/Dudebro%2311878</td>\n",
              "      <td>pc</td>\n",
              "      <td>Dudebro%2311878</td>\n",
              "      <td>55</td>\n",
              "      <td>3.82</td>\n",
              "      <td>181.0</td>\n",
              "      <td>3062.0</td>\n",
              "      <td>40.0</td>\n",
              "      <td>26.0</td>\n",
              "      <td>68.3</td>\n",
              "      <td>31 Jul19:15</td>\n",
              "      <td>1325.0</td>\n",
              "      <td>75.0</td>\n",
              "      <td>8.0</td>\n",
              "      <td>2.0</td>\n",
              "      <td>169.0</td>\n",
              "      <td>16.0</td>\n",
              "      <td>12.0</td>\n",
              "      <td>16618.0</td>\n",
              "      <td>4900.0</td>\n",
              "      <td>12.0</td>\n",
              "    </tr>\n",
              "    <tr>\n",
              "      <th>3</th>\n",
              "      <td>1</td>\n",
              "      <td>/profile/pc/Dudebro%2311878</td>\n",
              "      <td>pc</td>\n",
              "      <td>Dudebro%2311878</td>\n",
              "      <td>55</td>\n",
              "      <td>3.82</td>\n",
              "      <td>181.0</td>\n",
              "      <td>3062.0</td>\n",
              "      <td>40.0</td>\n",
              "      <td>26.0</td>\n",
              "      <td>68.3</td>\n",
              "      <td>31 Jul19:05</td>\n",
              "      <td>2630.0</td>\n",
              "      <td>25.0</td>\n",
              "      <td>9.0</td>\n",
              "      <td>1.0</td>\n",
              "      <td>308.0</td>\n",
              "      <td>103.0</td>\n",
              "      <td>26.0</td>\n",
              "      <td>27778.0</td>\n",
              "      <td>8720.0</td>\n",
              "      <td>22.0</td>\n",
              "    </tr>\n",
              "    <tr>\n",
              "      <th>4</th>\n",
              "      <td>1</td>\n",
              "      <td>/profile/pc/Dudebro%2311878</td>\n",
              "      <td>pc</td>\n",
              "      <td>Dudebro%2311878</td>\n",
              "      <td>55</td>\n",
              "      <td>3.82</td>\n",
              "      <td>181.0</td>\n",
              "      <td>3062.0</td>\n",
              "      <td>40.0</td>\n",
              "      <td>26.0</td>\n",
              "      <td>68.3</td>\n",
              "      <td>31 Jul18:53</td>\n",
              "      <td>1525.0</td>\n",
              "      <td>59.0</td>\n",
              "      <td>10.0</td>\n",
              "      <td>5.0</td>\n",
              "      <td>159.0</td>\n",
              "      <td>22.0</td>\n",
              "      <td>13.0</td>\n",
              "      <td>19390.0</td>\n",
              "      <td>5460.0</td>\n",
              "      <td>7.0</td>\n",
              "    </tr>\n",
              "  </tbody>\n",
              "</table>\n",
              "</div>"
            ],
            "text/plain": [
              "   rank                 profile_href  ... medalxp match_longest_streak\n",
              "0     1  /profile/pc/Dudebro%2311878  ...  4925.0                  5.0\n",
              "1     1  /profile/pc/Dudebro%2311878  ...  4700.0                 12.0\n",
              "2     1  /profile/pc/Dudebro%2311878  ...  4900.0                 12.0\n",
              "3     1  /profile/pc/Dudebro%2311878  ...  8720.0                 22.0\n",
              "4     1  /profile/pc/Dudebro%2311878  ...  5460.0                  7.0\n",
              "\n",
              "[5 rows x 22 columns]"
            ]
          },
          "metadata": {},
          "execution_count": 2
        }
      ]
    },
    {
      "cell_type": "markdown",
      "metadata": {
        "id": "VM7ZBe4erQzF"
      },
      "source": [
        "Class imbalances:\n",
        "\n",
        "\n",
        "*   Levels 55 and 155 are over represented\n",
        "*   Levels under 55 are under represented\n",
        "\n"
      ]
    },
    {
      "cell_type": "code",
      "metadata": {
        "colab": {
          "base_uri": "https://localhost:8080/",
          "height": 265
        },
        "id": "1yYx7gJ4iOlU",
        "outputId": "22ce69bd-e5af-482f-d6fb-d967b8178803"
      },
      "source": [
        "df['level'].hist(bins=50);"
      ],
      "execution_count": 3,
      "outputs": [
        {
          "output_type": "display_data",
          "data": {
            "image/png": "[encoded data removed]",
            "text/plain": [
              "<Figure size 432x288 with 1 Axes>"
            ]
          },
          "metadata": {
            "needs_background": "light"
          }
        }
      ]
    },
    {
      "cell_type": "markdown",
      "metadata": {
        "id": "gimA-fEw095K"
      },
      "source": [
        "\n",
        "## Reclassifying the players that have all around extremely high stats"
      ]
    },
    {
      "cell_type": "code",
      "metadata": {
        "id": "2dpcmd5jrWSd",
        "colab": {
          "base_uri": "https://localhost:8080/",
          "height": 282
        },
        "outputId": "0f4a907a-493a-4e58-ffa2-e70af9764022"
      },
      "source": [
        "def label_outliers(df, cols):\n",
        "  '''\n",
        "  For each level, the mean is calculated for a column.\n",
        "  If players score above three standard deviations above the mean then their name is added to the dictionary with the column appended\n",
        "  If players are an outlier for three or more columns, their handle is returned\n",
        "  '''\n",
        "  suspect = defaultdict(list)\n",
        "  for level in df['level'].unique():\n",
        "    players = df[df['level'] == level]\n",
        "    for col in cols:\n",
        "      boundary = (3.5*players[col].std()) + players[col].mean()\n",
        "      above_bound_players = list(players[players[col]>boundary].handle.unique())\n",
        "      for sus in above_bound_players:\n",
        "        suspect[sus].append(col)\n",
        "  \n",
        "  all_around_sus = [player for player, cols in suspect.items() if len(cols) > 3]\n",
        "  return all_around_sus\n",
        "\n",
        "cols = 'kda_ratio\tavg_lifetime\tscore_per_game\tplayer_perc_headshots\tplayer_perc_accuracy\tplayer_perc_wins\tscore\tmatch_accuracy\tmatch_time_played\tmatch_headshot_count\tmatch_score_per_minute\tmatch_shot_count\tmatch_hit_count\tmatch_total_xp\tmedalxp\tmatch_longest_streak'.split(\"\\t\")\n",
        "\n",
        "sus_players = label_outliers(df, cols)\n",
        "# Relabel the outlier players in a new df. Their flag value will be -1\n",
        "relabeled = df.copy()\n",
        "relabeled.loc[relabeled.handle.isin(sus_players), 'level'] = -1\n",
        "relabeled['level'] = pd.to_numeric(relabeled.level)\n",
        "relabeled.level.hist()"
      ],
      "execution_count": 4,
      "outputs": [
        {
          "output_type": "execute_result",
          "data": {
            "text/plain": [
              "<matplotlib.axes._subplots.AxesSubplot at 0x7faa28ec8810>"
            ]
          },
          "metadata": {},
          "execution_count": 4
        },
        {
          "output_type": "display_data",
          "data": {
            "image/png": "[encoded data removed]",
            "text/plain": [
              "<Figure size 432x288 with 1 Axes>"
            ]
          },
          "metadata": {
            "needs_background": "light"
          }
        }
      ]
    },
    {
      "cell_type": "markdown",
      "metadata": {
        "id": "TnVl8fqI2Miv"
      },
      "source": [
        "After relabeling, the class imbalances aren't as extreme. Definitely need to collect more data."
      ]
    },
    {
      "cell_type": "markdown",
      "metadata": {
        "id": "S30quqEU0YHq"
      },
      "source": [
        "## To *slightly* dampen the effects of class imbalances, over and under sampling will be applied"
      ]
    },
    {
      "cell_type": "code",
      "metadata": {
        "id": "uJpb6TEX5Vqw"
      },
      "source": [
        "def arr_to_df(df, X_arr, y_arr):\n",
        "  '''\n",
        "  df: dataframe to extract column names from\n",
        "  X_arr: nested array,  to be reformated into dataframe. \n",
        "  Y_arr: 1-d array, to be reformated into a Series\n",
        "  '''\n",
        "  try:\n",
        "    columns = df.select_dtypes(exclude='object').drop(columns=[ 'level']).columns\n",
        "  except:\n",
        "    columns = df.select_dtypes(exclude='object').columns\n",
        "  X = pd.DataFrame(X_arr, columns=columns)\n",
        "  y = pd.Series(y_arr)\n",
        "  return X,y"
      ],
      "execution_count": 6,
      "outputs": []
    },
    {
      "cell_type": "markdown",
      "metadata": {
        "id": "Dcp63pSa3iKl"
      },
      "source": [
        "Trying out imblearn's smote & edited nearest neighbor combo function"
      ]
    },
    {
      "cell_type": "code",
      "metadata": {
        "id": "17vdPdp9_X9K",
        "colab": {
          "base_uri": "https://localhost:8080/",
          "height": 282
        },
        "outputId": "2f6d50d2-fc89-472f-f7d7-b509dc1cd695"
      },
      "source": [
        "_relabeled = relabeled.dropna()\n",
        "X = _relabeled.select_dtypes(exclude='object').drop(columns=['level'])\n",
        "y = _relabeled['level']\n",
        "binary_y = y.copy()\n",
        "binary_y.loc[binary_y>0] = 0\n",
        "binary_y.loc[binary_y<0] = 1\n",
        "\n",
        "\n",
        "smoteenn= SMOTEENN(enn=ENN(n_neighbors=3), smote=SMOTE(k_neighbors=3))\n",
        "X_smoteenn, y_smoteenn=smoteenn.fit_resample(X,binary_y)\n",
        "X_smoteenn_df, y_smoteenn_df = arr_to_df(relabeled, X_smoteenn, y_smoteenn)\n",
        "print(y_smoteenn_df.hist())"
      ],
      "execution_count": 7,
      "outputs": [
        {
          "output_type": "stream",
          "name": "stdout",
          "text": [
            "AxesSubplot(0.125,0.125;0.775x0.755)\n"
          ]
        },
        {
          "output_type": "display_data",
          "data": {
            "image/png": "[encoded data removed]",
            "text/plain": [
              "<Figure size 432x288 with 1 Axes>"
            ]
          },
          "metadata": {
            "needs_background": "light"
          }
        }
      ]
    },
    {
      "cell_type": "markdown",
      "metadata": {
        "id": "XZkv2Sv04R1z"
      },
      "source": [
        "ENN down sampled the two majority classes and smote upsampled everything but the flagged values"
      ]
    },
    {
      "cell_type": "code",
      "metadata": {
        "id": "jxuZt19a0W-Y"
      },
      "source": [
        "def over_under_sample(df, under_sample_funcs):\n",
        "  _df = df.dropna()\n",
        "  X = _df.select_dtypes(exclude='object').drop(columns=['level'])\n",
        "  y = _df['level']\n",
        "  binary_y = y.copy()\n",
        "  binary_y.loc[binary_y>0] = 0\n",
        "  binary_y.loc[binary_y<0] = 1\n",
        "\n",
        "  res = {}\n",
        "  for (under_tag, under_func) in under_sample_funcs:\n",
        "    try:\n",
        "      under_samp_X, under_samp_y = under_func.fit_resample(X,y)\n",
        "      smote = SMOTE(k_neighbors=1)\n",
        "      over_samp_X, over_samp_y = smote.fit_resample(under_samp_X, under_samp_y)\n",
        "      res[under_tag] = arr_to_df(_df, over_samp_X,over_samp_y)\n",
        "    except ValueError:\n",
        "      pass\n",
        "  \n",
        "  return res\n",
        "\n",
        "renn = RENN(sampling_strategy=[55,155],n_neighbors=3)\n",
        "enn = ENN(n_neighbors=3)\n",
        "cnn = CNN(sampling_strategy=[55,155])\n",
        "under_sample_funcs = [('renn', renn), ('enn', enn), ('cnn', cnn)]\n",
        "\n",
        "res = over_under_sample(relabeled, under_sample_funcs)"
      ],
      "execution_count": 8,
      "outputs": []
    },
    {
      "cell_type": "code",
      "metadata": {
        "colab": {
          "base_uri": "https://localhost:8080/",
          "height": 282
        },
        "id": "FMWIdWNo484F",
        "outputId": "41a14fd3-8c30-4b9f-a3b0-6a7cb92a842c"
      },
      "source": [
        "res['renn'][1].hist()"
      ],
      "execution_count": 9,
      "outputs": [
        {
          "output_type": "execute_result",
          "data": {
            "text/plain": [
              "<matplotlib.axes._subplots.AxesSubplot at 0x7faa27515510>"
            ]
          },
          "metadata": {},
          "execution_count": 9
        },
        {
          "output_type": "display_data",
          "data": {
            "image/png": "[encoded data removed]",
            "text/plain": [
              "<Figure size 432x288 with 1 Axes>"
            ]
          },
          "metadata": {
            "needs_background": "light"
          }
        }
      ]
    },
    {
      "cell_type": "code",
      "metadata": {
        "colab": {
          "base_uri": "https://localhost:8080/",
          "height": 282
        },
        "id": "CImGyR_z48Oc",
        "outputId": "1d3a150f-f207-4ccc-ad4b-2e570dff3701"
      },
      "source": [
        "res['cnn'][1].hist()"
      ],
      "execution_count": 10,
      "outputs": [
        {
          "output_type": "execute_result",
          "data": {
            "text/plain": [
              "<matplotlib.axes._subplots.AxesSubplot at 0x7faa26f774d0>"
            ]
          },
          "metadata": {},
          "execution_count": 10
        },
        {
          "output_type": "display_data",
          "data": {
            "image/png": "[encoded data removed]",
            "text/plain": [
              "<Figure size 432x288 with 1 Axes>"
            ]
          },
          "metadata": {
            "needs_background": "light"
          }
        }
      ]
    },
    {
      "cell_type": "markdown",
      "metadata": {
        "id": "8EuCjnGy5sKL"
      },
      "source": [
        "SMOTE is probably having a hard up sampling the outliers because their values are so extreme. I'll be pulling from the top of the leaderboards to find some more data to flag this weekend. I can bootstrap and random sample the flagged values.\n",
        "\n",
        "I was originally avoiding the cheaters because I thought that would interfere with smurf detection. I recently found out that COD has hacks, not smurfs.\n",
        "\n",
        "Only. Model. Games. You. Play."
      ]
    },
    {
      "cell_type": "markdown",
      "metadata": {
        "id": "EmVGTX-gbHqi"
      },
      "source": [
        "## Scaling and train-test split"
      ]
    },
    {
      "cell_type": "code",
      "metadata": {
        "id": "8tYtWoMAbFH6",
        "colab": {
          "base_uri": "https://localhost:8080/",
          "height": 282
        },
        "outputId": "c3079cb0-0821-496f-c505-6604e09a0cc8"
      },
      "source": [
        "X,y = X_smoteenn_df.copy(), y_smoteenn_df.copy() # Picking a resampled df with a lower number of samples per class until I pull more data\n",
        "\n",
        "X_train, X_test, y_train, y_test = train_test_split(X,y)\n",
        "\n",
        "scaler = StandardScaler()\n",
        "X_train_sc = scaler.fit_transform(X_train)\n",
        "X_test_sc = scaler.transform(X_test)\n",
        "\n",
        "X_train_df, y_train_series = arr_to_df(X, X_train_sc, y_train)\n",
        "X_test_df, y_test_series = arr_to_df(X, X_test_sc, y_test)\n",
        "y_train_series.hist()"
      ],
      "execution_count": 11,
      "outputs": [
        {
          "output_type": "execute_result",
          "data": {
            "text/plain": [
              "<matplotlib.axes._subplots.AxesSubplot at 0x7faa28e31150>"
            ]
          },
          "metadata": {},
          "execution_count": 11
        },
        {
          "output_type": "display_data",
          "data": {
            "image/png": "[encoded data removed]",
            "text/plain": [
              "<Figure size 432x288 with 1 Axes>"
            ]
          },
          "metadata": {
            "needs_background": "light"
          }
        }
      ]
    },
    {
      "cell_type": "code",
      "metadata": {
        "id": "1TtInLV569Uh"
      },
      "source": [
        "X_train_df.to_csv('/content/drive/MyDrive/capstone/data/X_train.csv')\n",
        "y_train_series.to_csv('/content/drive/MyDrive/capstone/data/y_train.csv')\n",
        "\n",
        "X_test_df.to_csv('/content/drive/MyDrive/capstone/data/X_test.csv')\n",
        "y_test_series.to_csv('/content/drive/MyDrive/capstone/data/y_test.csv')\n",
        "\n",
        "# Use a df that still has level labels for EDA aka Non-binarized y\n",
        "eda_df = res['renn'][0].copy()\n",
        "eda_df['level'] = res['renn'][1]\n",
        "eda_df.to_csv('/content/drive/MyDrive/capstone/data/eda_df.csv')"
      ],
      "execution_count": 12,
      "outputs": []
    }
  ]
}