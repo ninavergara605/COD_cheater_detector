{
  "nbformat": 4,
  "nbformat_minor": 0,
  "metadata": {
    "colab": {
      "name": "results.ipynb",
      "provenance": [],
      "authorship_tag": "ABX9TyNOHHTojfyju+Mij18ujvB0"
    },
    "kernelspec": {
      "name": "python3",
      "display_name": "Python 3"
    },
    "language_info": {
      "name": "python"
    }
  },
  "cells": [
    {
      "cell_type": "markdown",
      "metadata": {
        "id": "qyJb2ksaj14z"
      },
      "source": [
        "#### Outside Modeling Functions and Warning Suppression"
      ]
    },
    {
      "cell_type": "code",
      "metadata": {
        "id": "jyanFqRH0CwI"
      },
      "source": [
        "import pandas as pd\n",
        "import numpy as np\n",
        "\n",
        "from sklearn.tree import DecisionTreeClassifier\n",
        "from sklearn.ensemble import RandomForestClassifier\n",
        "from sklearn.linear_model import LogisticRegression\n",
        "from sklearn.metrics import accuracy_score\n",
        "\n",
        "def warn(*args, **kwargs):\n",
        "    pass\n",
        "import warnings\n",
        "warnings.warn = warn\n",
        "\n",
        "import seaborn as sns\n",
        "import matplotlib.pyplot as plt\n",
        "import matplotlib.ticker as mtick"
      ],
      "execution_count": 16,
      "outputs": []
    },
    {
      "cell_type": "markdown",
      "metadata": {
        "id": "1QPqanCHkFpZ"
      },
      "source": [
        "#### Google collab setup"
      ]
    },
    {
      "cell_type": "code",
      "metadata": {
        "colab": {
          "base_uri": "https://localhost:8080/",
          "height": 69
        },
        "id": "zx1KvQviT7tK",
        "outputId": "52baf6d7-76bf-407c-821d-504f248cf498"
      },
      "source": [
        "from google.colab import drive, files\n",
        "\n",
        "drive.mount(\"/content/gdrive\", force_remount=True)\n",
        "'''files.upload() #Upload the modeling_functions script to the virtual environment\n",
        "\n",
        "#Import user defined modeling functions\n",
        "from modeling_functions import grid_search_cv\n",
        "from modeling_functions import evaluate_model'''"
      ],
      "execution_count": 3,
      "outputs": [
        {
          "output_type": "stream",
          "name": "stdout",
          "text": [
            "Mounted at /content/gdrive\n"
          ]
        },
        {
          "output_type": "execute_result",
          "data": {
            "application/vnd.google.colaboratory.intrinsic+json": {
              "type": "string"
            },
            "text/plain": [
              "'files.upload() #Upload the modeling_functions script to the virtual environment\\n\\n#Import user defined modeling functions\\nfrom modeling_functions import grid_search_cv\\nfrom modeling_functions import evaluate_model'"
            ]
          },
          "metadata": {},
          "execution_count": 3
        }
      ]
    },
    {
      "cell_type": "markdown",
      "metadata": {
        "id": "kBTusyOA5b_q"
      },
      "source": [
        "#### Modeling Data Imports"
      ]
    },
    {
      "cell_type": "code",
      "metadata": {
        "id": "W89d-e4i1gH3"
      },
      "source": [
        "X_train = pd.read_csv('/content/gdrive/MyDrive/capstone/data/X_train.csv')\n",
        "y_train = pd.read_csv('/content/gdrive/MyDrive/capstone/data/y_train.csv').values.ravel()\n",
        "\n",
        "X_test = pd.read_csv('/content/gdrive/MyDrive/capstone/data/X_test.csv')\n",
        "y_test = pd.read_csv('/content/gdrive/MyDrive/capstone/data/y_test.csv').values.ravel()"
      ],
      "execution_count": 4,
      "outputs": []
    },
    {
      "cell_type": "markdown",
      "metadata": {
        "id": "UK--Nv904SvI"
      },
      "source": [
        "### Run Optmized Models\n",
        "\n",
        "Runs the optimized models on the test data. Stores the accuracy score of predicted X_test "
      ]
    },
    {
      "cell_type": "code",
      "metadata": {
        "id": "ap4kcXjinJXK"
      },
      "source": [
        "names = ['DecisionTree', 'RandomForest', 'LogisticRegression']\n",
        "models = [DecisionTreeClassifier, RandomForestClassifier, LogisticRegression]\n",
        "model_params = [{'max_leaf_nodes':2000}, {'ccp_alpha':1e-5}, {'C': 1e-05\n",
        "                                                          ,'fit_intercept': True\n",
        "                                                          ,'intercept_scaling': 1e-05\n",
        "                                                          ,'penalty': 'none'\n",
        "                                                          ,'solver': 'saga'\n",
        "                                                          ,'warm_start': True\n",
        "                                                          }\n",
        "]\n",
        "model_accuracy = []\n",
        "for model, params in zip(models, model_params):\n",
        "  _model = model(**params)\n",
        "  _model.fit(X_train, y_train)\n",
        "  y_pred = _model.predict(X_test)\n",
        "  model_accuracy.append(accuracy_score(y_test, y_pred))\n"
      ],
      "execution_count": 12,
      "outputs": []
    },
    {
      "cell_type": "markdown",
      "metadata": {
        "id": "gr81ctXl4uyY"
      },
      "source": [
        "### Create Accuracy Plot\n",
        "\n",
        "Creates a bar plot of model accuracies. "
      ]
    },
    {
      "cell_type": "code",
      "metadata": {
        "colab": {
          "base_uri": "https://localhost:8080/",
          "height": 503
        },
        "id": "4b0AH-drpxjY",
        "outputId": "53fdfdfb-db63-443d-aada-53f6f0b85a52"
      },
      "source": [
        "# Reformats accuracy scores to percent\n",
        "accuracy_perc = [x*100 for x in model_accuracy]\n",
        "\n",
        "# Initialize figure and plot accuracies\n",
        "fig, ax = plt.subplots(figsize=(8,8))\n",
        "ax.bar(names, accuracy_perc)\n",
        "\n",
        "# Reformat y-axis ticks as percentages\n",
        "ax.yaxis.set_major_formatter(mtick.PercentFormatter())\n",
        "\n",
        "# Make some value labels for the bars\n",
        "labels = [f\"{np.round(val,2)}%\" for val in accuracy_perc]\n",
        "\n",
        "rects = ax.patches # Grabs Rectangle object from bar plot\n",
        "for rect, label in zip(rects, labels):\n",
        "  # Adds the labels to the graph above respective column using rectangle object location\n",
        "    height = rect.get_height()\n",
        "    ax.text(\n",
        "        rect.get_x() + rect.get_width() / 2, height + 5, label, ha=\"center\", va=\"bottom\"\n",
        "    )\n",
        "# Remove spines for asthetics \n",
        "ax.spines['right'].set_visible(False)\n",
        "ax.spines['top'].set_visible(False)\n",
        "\n",
        "# Adds y axis label and increases font size\n",
        "ax.set_ylabel('Accuracy')\n",
        "plt.rcParams.update({'font.size': 15})"
      ],
      "execution_count": 42,
      "outputs": [
        {
          "output_type": "display_data",
          "data": {
            "image/png": "[encoded data removed]",
            "text/plain": [
              "<Figure size 576x576 with 1 Axes>"
            ]
          },
          "metadata": {
            "needs_background": "light"
          }
        }
      ]
    },
    {
      "cell_type": "markdown",
      "metadata": {
        "id": "SpMvZYYq33af"
      },
      "source": [
        "### Final Model\n",
        "I will choose the RandomForest Model as my final model because it offers the highest accuracy."
      ]
    }
  ]
}